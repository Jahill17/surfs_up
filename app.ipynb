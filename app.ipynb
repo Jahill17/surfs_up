{
 "cells": [
  {
   "cell_type": "code",
   "execution_count": 1,
   "id": "25bfb5e4",
   "metadata": {},
   "outputs": [],
   "source": [
    "# Import Flask\n",
    "from flask import Flask"
   ]
  },
  {
   "cell_type": "code",
   "execution_count": 2,
   "id": "80e090ed",
   "metadata": {},
   "outputs": [],
   "source": [
    "# Create a new flask app instance\n",
    "app = Flask(__name__)"
   ]
  },
  {
   "cell_type": "code",
   "execution_count": 3,
   "id": "e48b33be",
   "metadata": {},
   "outputs": [],
   "source": [
    "# Create flask routes\n",
    "@app.route('/')\n",
    "def hello_world():\n",
    "    return 'Hello world'"
   ]
  },
  {
   "cell_type": "code",
   "execution_count": 5,
   "id": "cb4756bd",
   "metadata": {},
   "outputs": [
    {
     "ename": "SyntaxError",
     "evalue": "invalid syntax (210588596.py, line 2)",
     "output_type": "error",
     "traceback": [
      "\u001b[1;36m  File \u001b[1;32m\"C:\\Users\\jonhi\\AppData\\Local\\Temp\\ipykernel_14448\\210588596.py\"\u001b[1;36m, line \u001b[1;32m2\u001b[0m\n\u001b[1;33m    flask run\u001b[0m\n\u001b[1;37m            ^\u001b[0m\n\u001b[1;31mSyntaxError\u001b[0m\u001b[1;31m:\u001b[0m invalid syntax\n"
     ]
    }
   ],
   "source": [
    "# Run flask\n",
    "set FLASK_APP=app.py\n",
    "flask run"
   ]
  },
  {
   "cell_type": "code",
   "execution_count": null,
   "id": "b02c3aa0",
   "metadata": {},
   "outputs": [],
   "source": []
  }
 ],
 "metadata": {
  "kernelspec": {
   "display_name": "Python 3 (ipykernel)",
   "language": "python",
   "name": "python3"
  },
  "language_info": {
   "codemirror_mode": {
    "name": "ipython",
    "version": 3
   },
   "file_extension": ".py",
   "mimetype": "text/x-python",
   "name": "python",
   "nbconvert_exporter": "python",
   "pygments_lexer": "ipython3",
   "version": "3.7.13"
  }
 },
 "nbformat": 4,
 "nbformat_minor": 5
}
